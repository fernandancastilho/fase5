{
 "cells": [
  {
   "cell_type": "code",
   "execution_count": null,
   "metadata": {},
   "outputs": [
    {
     "name": "stderr",
     "output_type": "stream",
     "text": [
      "2025-04-03 19:59:07.432 WARNING streamlit.runtime.caching.cache_data_api: No runtime found, using MemoryCacheStorageManager\n",
      "2025-04-03 19:59:07.433 WARNING streamlit.runtime.caching.cache_data_api: No runtime found, using MemoryCacheStorageManager\n",
      "2025-04-03 19:59:07.433 WARNING streamlit.runtime.scriptrunner_utils.script_run_context: Thread 'MainThread': missing ScriptRunContext! This warning can be ignored when running in bare mode.\n",
      "2025-04-03 19:59:07.880 \n",
      "  \u001b[33m\u001b[1mWarning:\u001b[0m to view this Streamlit app on a browser, run it with the following\n",
      "  command:\n",
      "\n",
      "    streamlit run C:\\Users\\jessi\\AppData\\Local\\Packages\\PythonSoftwareFoundation.Python.3.12_qbz5n2kfra8p0\\LocalCache\\local-packages\\Python312\\site-packages\\ipykernel_launcher.py [ARGUMENTS]\n",
      "2025-04-03 19:59:07.881 Thread 'MainThread': missing ScriptRunContext! This warning can be ignored when running in bare mode.\n",
      "2025-04-03 19:59:07.881 Thread 'MainThread': missing ScriptRunContext! This warning can be ignored when running in bare mode.\n",
      "2025-04-03 19:59:08.382 Thread 'Thread-5': missing ScriptRunContext! This warning can be ignored when running in bare mode.\n",
      "2025-04-03 19:59:08.387 Thread 'Thread-5': missing ScriptRunContext! This warning can be ignored when running in bare mode.\n",
      "2025-04-03 19:59:11.957 Thread 'MainThread': missing ScriptRunContext! This warning can be ignored when running in bare mode.\n",
      "2025-04-03 19:59:11.958 Thread 'MainThread': missing ScriptRunContext! This warning can be ignored when running in bare mode.\n"
     ]
    }
   ],
   "source": [
    "import streamlit as st\n",
    "import pandas as pd\n",
    "import json\n",
    "from sklearn.feature_extraction.text import TfidfVectorizer\n",
    "from sklearn.ensemble import RandomForestClassifier\n",
    "from sklearn.model_selection import train_test_split\n",
    "from sklearn.metrics import accuracy_score\n",
    "\n",
    "# Carregar os dados\n",
    "@st.cache_data\n",
    "def carregar_dados():\n",
    "    with open(\"prospects.json\", \"r\", encoding=\"utf-8\") as f:\n",
    "        prospects = json.load(f)\n",
    "    with open(\"vagas.json\", \"r\", encoding=\"utf-8\") as f:\n",
    "        vagas = json.load(f)\n",
    "    with open(\"applicants.json\", \"r\", encoding=\"utf-8\") as f:\n",
    "        applicants = json.load(f)\n",
    "    return prospects, vagas, applicants\n",
    "\n",
    "prospects, vagas, applicants = carregar_dados()\n",
    "\n",
    "# Processamento dos dados\n",
    "def extrair_texto(dados):\n",
    "    textos = []\n",
    "    for key, value in dados.items():\n",
    "        if \"perfil_vaga\" in value:\n",
    "            textos.append(value[\"perfil_vaga\"].get(\"principais_atividades\", \"\"))\n",
    "        elif \"cv_pt\" in value:\n",
    "            textos.append(value[\"cv_pt\"])\n",
    "    return textos\n",
    "\n",
    "competencias_texto = extrair_texto(vagas) + extrair_texto(applicants)\n",
    "\n",
    "# Vetorização\n",
    "vectorizer = TfidfVectorizer()\n",
    "X = vectorizer.fit_transform(competencias_texto)\n",
    "y = [1] * len(vagas) + [0] * len(applicants)\n",
    "\n",
    "# Modelo de Machine Learning\n",
    "X_train, X_test, y_train, y_test = train_test_split(X, y, test_size=0.2, random_state=42)\n",
    "model = RandomForestClassifier(n_estimators=100, random_state=42)\n",
    "model.fit(X_train, y_train)\n",
    "\n",
    "# Avaliação do modelo\n",
    "predictions = model.predict(X_test)\n",
    "st.write(f\"Acurácia do modelo: {accuracy_score(y_test, predictions):.2f}\")\n",
    "\n",
    "# Interface Streamlit\n",
    "st.title(\"Sistema de Match de Candidatos\")\n",
    "\n",
    "input_text = st.text_area(\"Digite as competências do candidato:\")\n",
    "if st.button(\"Analisar Match\"):\n",
    "    input_vectorized = vectorizer.transform([input_text]).toarray()\n",
    "    prediction = model.predict(input_vectorized)\n",
    "    resultado = \"Match encontrado!\" if prediction[0] == 1 else \"Nenhum match encontrado.\"\n",
    "    st.write(resultado)\n"
   ]
  }
 ],
 "metadata": {
  "kernelspec": {
   "display_name": "Python 3",
   "language": "python",
   "name": "python3"
  },
  "language_info": {
   "codemirror_mode": {
    "name": "ipython",
    "version": 3
   },
   "file_extension": ".py",
   "mimetype": "text/x-python",
   "name": "python",
   "nbconvert_exporter": "python",
   "pygments_lexer": "ipython3",
   "version": "3.12.9"
  }
 },
 "nbformat": 4,
 "nbformat_minor": 2
}
